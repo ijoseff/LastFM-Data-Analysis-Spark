{
 "cells": [
  {
   "cell_type": "markdown",
   "metadata": {},
   "source": [
    "# LastFM Data Analysis Using PySpark"
   ]
  },
  {
   "cell_type": "markdown",
   "metadata": {},
   "source": [
    "<img src=\"https://github.com/ijoseff/ijoseff.github.io/blob/master/assets/img/portfolio/lastfm.png?raw=true\" width = '800' height = '400' />"
   ]
  },
  {
   "cell_type": "markdown",
   "metadata": {
    "toc": true
   },
   "source": [
    "<h1>Table of Contents<span class=\"tocSkip\"></span></h1>\n",
    "<div class=\"toc\"><ul class=\"toc-item\"><li><span><a href=\"#LastFM-Data-Analysis-Using-PySpark\" data-toc-modified-id=\"LastFM-Data-Analysis-Using-PySpark-1\"><span class=\"toc-item-num\">1&nbsp;&nbsp;</span>LastFM Data Analysis Using PySpark</a></span></li><li><span><a href=\"#Overview\" data-toc-modified-id=\"Overview-2\"><span class=\"toc-item-num\">2&nbsp;&nbsp;</span>Overview</a></span></li><li><span><a href=\"#Install-Pyspark\" data-toc-modified-id=\"Install-Pyspark-3\"><span class=\"toc-item-num\">3&nbsp;&nbsp;</span>Install Pyspark</a></span></li><li><span><a href=\"#Mount-Google-Drive-And-Import-Libraries\" data-toc-modified-id=\"Mount-Google-Drive-And-Import-Libraries-4\"><span class=\"toc-item-num\">4&nbsp;&nbsp;</span>Mount Google Drive And Import Libraries</a></span></li><li><span><a href=\"#Create-Spark-Session\" data-toc-modified-id=\"Create-Spark-Session-5\"><span class=\"toc-item-num\">5&nbsp;&nbsp;</span>Create Spark Session</a></span></li><li><span><a href=\"#Import-Listening-Dataset\" data-toc-modified-id=\"Import-Listening-Dataset-6\"><span class=\"toc-item-num\">6&nbsp;&nbsp;</span>Import Listening Dataset</a></span></li><li><span><a href=\"#Feature-Selection\" data-toc-modified-id=\"Feature-Selection-7\"><span class=\"toc-item-num\">7&nbsp;&nbsp;</span>Feature Selection</a></span></li><li><span><a href=\"#Query-Entries-And-Gather-Insights\" data-toc-modified-id=\"Query-Entries-And-Gather-Insights-8\"><span class=\"toc-item-num\">8&nbsp;&nbsp;</span>Query Entries And Gather Insights</a></span><ul class=\"toc-item\"><li><span><a href=\"#Tracks-And-Artist\" data-toc-modified-id=\"Tracks-And-Artist-8.1\"><span class=\"toc-item-num\">8.1&nbsp;&nbsp;</span>Tracks And Artist</a></span></li><li><span><a href=\"#Records-of-those-users-who-have-listened-to-Rihanna\" data-toc-modified-id=\"Records-of-those-users-who-have-listened-to-Rihanna-8.2\"><span class=\"toc-item-num\">8.2&nbsp;&nbsp;</span>Records of those users who have listened to Rihanna</a></span></li><li><span><a href=\"#Top-10-Users-Who-Are-Fan-Of-Rihanna\" data-toc-modified-id=\"Top-10-Users-Who-Are-Fan-Of-Rihanna-8.3\"><span class=\"toc-item-num\">8.3&nbsp;&nbsp;</span>Top 10 Users Who Are Fan Of Rihanna</a></span></li><li><span><a href=\"#Top-10-Famous-Tracks\" data-toc-modified-id=\"Top-10-Famous-Tracks-8.4\"><span class=\"toc-item-num\">8.4&nbsp;&nbsp;</span>Top 10 Famous Tracks</a></span></li><li><span><a href=\"#Top-10-Famous-Tracks-Of-Rihanna\" data-toc-modified-id=\"Top-10-Famous-Tracks-Of-Rihanna-8.5\"><span class=\"toc-item-num\">8.5&nbsp;&nbsp;</span>Top 10 Famous Tracks Of Rihanna</a></span></li><li><span><a href=\"#Top-10-Famous-Albums\" data-toc-modified-id=\"Top-10-Famous-Albums-8.6\"><span class=\"toc-item-num\">8.6&nbsp;&nbsp;</span>Top 10 Famous Albums</a></span></li></ul></li><li><span><a href=\"#Import-Genre-Dataset\" data-toc-modified-id=\"Import-Genre-Dataset-9\"><span class=\"toc-item-num\">9&nbsp;&nbsp;</span>Import Genre Dataset</a></span></li><li><span><a href=\"#Listening-And-Genre-Dataset-Combination\" data-toc-modified-id=\"Listening-And-Genre-Dataset-Combination-10\"><span class=\"toc-item-num\">10&nbsp;&nbsp;</span>Listening And Genre Dataset Combination</a></span></li><li><span><a href=\"#More-Query-Entries-And-Gathering-Of-Insights\" data-toc-modified-id=\"More-Query-Entries-And-Gathering-Of-Insights-11\"><span class=\"toc-item-num\">11&nbsp;&nbsp;</span>More Query Entries And Gathering Of Insights</a></span><ul class=\"toc-item\"><li><span><a href=\"#Top-10-Users-Who-Are-Fan-Of-Pop-Music\" data-toc-modified-id=\"Top-10-Users-Who-Are-Fan-Of-Pop-Music-11.1\"><span class=\"toc-item-num\">11.1&nbsp;&nbsp;</span>Top 10 Users Who Are Fan Of Pop Music</a></span></li><li><span><a href=\"#Top-10-Famous-Genres\" data-toc-modified-id=\"Top-10-Famous-Genres-11.2\"><span class=\"toc-item-num\">11.2&nbsp;&nbsp;</span>Top 10 Famous Genres</a></span></li><li><span><a href=\"#User-Favorite-Genre\" data-toc-modified-id=\"User-Favorite-Genre-11.3\"><span class=\"toc-item-num\">11.3&nbsp;&nbsp;</span>User Favorite Genre</a></span></li><li><span><a href=\"#Numbers-of-Pop,-Rock,-Metal-And-Hiphop-Singers\" data-toc-modified-id=\"Numbers-of-Pop,-Rock,-Metal-And-Hiphop-Singers-11.4\"><span class=\"toc-item-num\">11.4&nbsp;&nbsp;</span>Numbers of Pop, Rock, Metal And Hiphop Singers</a></span></li></ul></li></ul></div>"
   ]
  },
  {
   "cell_type": "markdown",
   "metadata": {},
   "source": [
    "# Overview\n",
    "\n",
    "As a data scientist or data analyst, one of the important topics that every data analyst should be familiar with is the distributed data processing technologies. In this project, different queries will be conducted to the dataset to extract useful information out of it. \n",
    "\n",
    "But in this case, the data is so big that working with it on the local machine is not easy to be done. That is when the distributed data processing and Spark Technology will become handy.\n",
    "\n",
    "So in this project, Pyspark module in python and google colab environment will be use in order to apply some queries to the dataset which related to lastfm website which is an online music service where users can listen to different songs. This dataset is containing two csv files listening.csv and genre.csv. The dataset contains over 13 million rows of data.\n",
    "\n",
    "**Source:**\n",
    " - https://www.last.fm/"
   ]
  },
  {
   "cell_type": "markdown",
   "metadata": {},
   "source": [
    "# Install Pyspark"
   ]
  },
  {
   "cell_type": "code",
   "execution_count": 48,
   "metadata": {
    "colab": {
     "base_uri": "https://localhost:8080/",
     "height": 54
    },
    "colab_type": "code",
    "id": "oblO_A550flB",
    "outputId": "ebd15949-c2eb-4dd0-e4a3-a13f46be1269"
   },
   "outputs": [
    {
     "name": "stdout",
     "output_type": "stream",
     "text": [
      "Requirement already satisfied: pyspark in /usr/local/lib/python3.6/dist-packages (3.0.0)\n",
      "Requirement already satisfied: py4j==0.10.9 in /usr/local/lib/python3.6/dist-packages (from pyspark) (0.10.9)\n"
     ]
    }
   ],
   "source": [
    "# Install PySpark library\n",
    "!pip install pyspark"
   ]
  },
  {
   "cell_type": "markdown",
   "metadata": {},
   "source": [
    "# Mount Google Drive And Import Libraries"
   ]
  },
  {
   "cell_type": "code",
   "execution_count": 49,
   "metadata": {
    "colab": {
     "base_uri": "https://localhost:8080/",
     "height": 35
    },
    "colab_type": "code",
    "id": "g9ifibhA1pSf",
    "outputId": "db10fd9c-e4ac-4e5f-f19a-c80532ffd856"
   },
   "outputs": [
    {
     "name": "stdout",
     "output_type": "stream",
     "text": [
      "Drive already mounted at /content/drive; to attempt to forcibly remount, call drive.mount(\"/content/drive\", force_remount=True).\n"
     ]
    }
   ],
   "source": [
    "# Mount google drive\n",
    "from google.colab import drive\n",
    "drive.mount('/content/drive')"
   ]
  },
  {
   "cell_type": "code",
   "execution_count": 106,
   "metadata": {
    "colab": {},
    "colab_type": "code",
    "id": "_gDQl6Ko1udl"
   },
   "outputs": [],
   "source": [
    "# Import libraries\n",
    "from pyspark.sql import SparkSession\n",
    "from pyspark.sql.functions import count, desc , col, max, struct\n",
    "import matplotlib.pyplot as plt\n",
    "from pyspark import SparkContext\n",
    "from pyspark.sql import SQLContext"
   ]
  },
  {
   "cell_type": "markdown",
   "metadata": {},
   "source": [
    "# Create Spark Session"
   ]
  },
  {
   "cell_type": "code",
   "execution_count": 51,
   "metadata": {
    "colab": {},
    "colab_type": "code",
    "id": "rg5LJiCC16Jv"
   },
   "outputs": [],
   "source": [
    "# Create spark session\n",
    "spark = SparkSession.builder.appName('spark_app').getOrCreate"
   ]
  },
  {
   "cell_type": "markdown",
   "metadata": {},
   "source": [
    "# Import Listening Dataset"
   ]
  },
  {
   "cell_type": "code",
   "execution_count": 87,
   "metadata": {
    "colab": {},
    "colab_type": "code",
    "id": "TcT5nk-12UHM"
   },
   "outputs": [],
   "source": [
    "# Create shortcut term\n",
    "sc = SparkContext.getOrCreate()\n",
    "\n",
    "# label SQL Context\n",
    "sqlContext = SQLContext(sc)\n",
    "\n",
    "# Import listening.csv file\n",
    "listening_csv_path = '/content/drive/My Drive/dataset/listenings.csv'\n",
    " \n",
    "# Create data frame\n",
    "listening_df = sqlContext.read.load(listening_csv_path, \n",
    "                      format='com.databricks.spark.csv', \n",
    "                      header='true', \n",
    "                      inferSchema='true')"
   ]
  },
  {
   "cell_type": "code",
   "execution_count": 88,
   "metadata": {
    "colab": {
     "base_uri": "https://localhost:8080/",
     "height": 490
    },
    "colab_type": "code",
    "id": "t6XInJtG6ExS",
    "outputId": "6f9dd7b6-3e29-464d-a1b4-10608f0ec1ee"
   },
   "outputs": [
    {
     "name": "stdout",
     "output_type": "stream",
     "text": [
      "+-----------+-------------+--------------------+---------------+--------------------+\n",
      "|    user_id|         date|               track|         artist|               album|\n",
      "+-----------+-------------+--------------------+---------------+--------------------+\n",
      "|000Silenced|1299680100000|           Price Tag|       Jessie J|         Who You Are|\n",
      "|000Silenced|1299679920000|Price Tag (Acoust...|       Jessie J|           Price Tag|\n",
      "|000Silenced|1299679440000|Be Mine! (Ballad ...|          Robyn|            Be Mine!|\n",
      "|000Silenced|1299679200000|            Acapella|          Kelis|            Acapella|\n",
      "|000Silenced|1299675660000|   I'm Not Invisible|      The Tease|   I'm Not Invisible|\n",
      "|000Silenced|1297511400000|Bounce (Feat NORE...|       MSTRKRFT|         Fist of God|\n",
      "|000Silenced|1294498440000|Don't Stop The Mu...|        Rihanna|Addicted 2 Bassli...|\n",
      "|000Silenced|1292438340000|               ObZen|      Meshuggah|               ObZen|\n",
      "|000Silenced|1292437740000|   Yama's Messengers|         Gojira|The Way of All Flesh|\n",
      "|000Silenced|1292436360000|On the Brink of E...|   Napalm Death|Time Waits For No...|\n",
      "|000Silenced|1292436360000|On the Brink of E...|   Napalm Death|Time Waits For No...|\n",
      "|000Silenced|1292435940000|        In Deference|   Napalm Death|      Smear Campaign|\n",
      "|000Silenced|1292434920000|      Post(?)organic|    Decapitated|Organic Hallucinosis|\n",
      "|000Silenced|1292434560000|        Mind Feeders|   Dom & Roland| No Strings Attached|\n",
      "|000Silenced|1292434320000|Necrosadistic War...|Cannibal Corpse|                Kill|\n",
      "|000Silenced|1292365560000|     Dance All Night|   Dom & Roland|          Chronology|\n",
      "|000Silenced|1292365260000|          Late Night|   Dom & Roland|          Chronology|\n",
      "|000Silenced|1292365020000|          Freak Seen|   Dom & Roland|          Chronology|\n",
      "|000Silenced|1292364720000|Paradrenasite (Hi...|   Dom & Roland|          Chronology|\n",
      "|000Silenced|1292364300000|               Rhino|   Dom & Roland|          Chronology|\n",
      "+-----------+-------------+--------------------+---------------+--------------------+\n",
      "only showing top 20 rows\n",
      "\n"
     ]
    }
   ],
   "source": [
    "# Check data\n",
    "listening_df.show()"
   ]
  },
  {
   "cell_type": "markdown",
   "metadata": {},
   "source": [
    "# Feature Selection"
   ]
  },
  {
   "cell_type": "code",
   "execution_count": 89,
   "metadata": {
    "colab": {},
    "colab_type": "code",
    "id": "mmuYgmuC6Kka"
   },
   "outputs": [],
   "source": [
    "# Delete useless columns\n",
    "listening_df = listening_df.drop('date')"
   ]
  },
  {
   "cell_type": "code",
   "execution_count": 90,
   "metadata": {
    "colab": {},
    "colab_type": "code",
    "id": "cF1gBiT86p0b"
   },
   "outputs": [],
   "source": [
    "# Drop null values\n",
    "listening_df = listening_df.na.drop()"
   ]
  },
  {
   "cell_type": "code",
   "execution_count": 60,
   "metadata": {
    "colab": {
     "base_uri": "https://localhost:8080/",
     "height": 490
    },
    "colab_type": "code",
    "id": "ZVtS5g-O63oY",
    "outputId": "0a226f29-1d08-43e1-a201-eb20c92e9cfd"
   },
   "outputs": [
    {
     "name": "stdout",
     "output_type": "stream",
     "text": [
      "+-----------+--------------------+---------------+--------------------+\n",
      "|    user_id|               track|         artist|               album|\n",
      "+-----------+--------------------+---------------+--------------------+\n",
      "|000Silenced|           Price Tag|       Jessie J|         Who You Are|\n",
      "|000Silenced|Price Tag (Acoust...|       Jessie J|           Price Tag|\n",
      "|000Silenced|Be Mine! (Ballad ...|          Robyn|            Be Mine!|\n",
      "|000Silenced|            Acapella|          Kelis|            Acapella|\n",
      "|000Silenced|   I'm Not Invisible|      The Tease|   I'm Not Invisible|\n",
      "|000Silenced|Bounce (Feat NORE...|       MSTRKRFT|         Fist of God|\n",
      "|000Silenced|Don't Stop The Mu...|        Rihanna|Addicted 2 Bassli...|\n",
      "|000Silenced|               ObZen|      Meshuggah|               ObZen|\n",
      "|000Silenced|   Yama's Messengers|         Gojira|The Way of All Flesh|\n",
      "|000Silenced|On the Brink of E...|   Napalm Death|Time Waits For No...|\n",
      "|000Silenced|On the Brink of E...|   Napalm Death|Time Waits For No...|\n",
      "|000Silenced|        In Deference|   Napalm Death|      Smear Campaign|\n",
      "|000Silenced|      Post(?)organic|    Decapitated|Organic Hallucinosis|\n",
      "|000Silenced|        Mind Feeders|   Dom & Roland| No Strings Attached|\n",
      "|000Silenced|Necrosadistic War...|Cannibal Corpse|                Kill|\n",
      "|000Silenced|     Dance All Night|   Dom & Roland|          Chronology|\n",
      "|000Silenced|          Late Night|   Dom & Roland|          Chronology|\n",
      "|000Silenced|          Freak Seen|   Dom & Roland|          Chronology|\n",
      "|000Silenced|Paradrenasite (Hi...|   Dom & Roland|          Chronology|\n",
      "|000Silenced|               Rhino|   Dom & Roland|          Chronology|\n",
      "+-----------+--------------------+---------------+--------------------+\n",
      "only showing top 20 rows\n",
      "\n"
     ]
    }
   ],
   "source": [
    "# Check dataset\n",
    "listening_df.show()"
   ]
  },
  {
   "cell_type": "code",
   "execution_count": 61,
   "metadata": {
    "colab": {
     "base_uri": "https://localhost:8080/",
     "height": 126
    },
    "colab_type": "code",
    "id": "is-OxHom69mH",
    "outputId": "485f0d4c-9380-4a59-aaff-c4743d83ddce"
   },
   "outputs": [
    {
     "name": "stdout",
     "output_type": "stream",
     "text": [
      "root\n",
      " |-- user_id: string (nullable = true)\n",
      " |-- track: string (nullable = true)\n",
      " |-- artist: string (nullable = true)\n",
      " |-- album: string (nullable = true)\n",
      "\n"
     ]
    }
   ],
   "source": [
    "# Check schema\n",
    "listening_df.printSchema()"
   ]
  },
  {
   "cell_type": "code",
   "execution_count": 62,
   "metadata": {
    "colab": {
     "base_uri": "https://localhost:8080/",
     "height": 35
    },
    "colab_type": "code",
    "id": "KEw5_ZoE7PC8",
    "outputId": "3d486425-69c3-4522-c261-e13dc319c5db"
   },
   "outputs": [
    {
     "name": "stdout",
     "output_type": "stream",
     "text": [
      "(13758905, 4)\n"
     ]
    }
   ],
   "source": [
    "# Check dataframe dimension\n",
    "shape = (listening_df.count(), len(listening_df.columns))\n",
    "\n",
    "# Show shape\n",
    "print(shape)"
   ]
  },
  {
   "cell_type": "markdown",
   "metadata": {},
   "source": [
    "# Query Entries And Gather Insights"
   ]
  },
  {
   "cell_type": "markdown",
   "metadata": {},
   "source": [
    "## Tracks And Artist"
   ]
  },
  {
   "cell_type": "code",
   "execution_count": 63,
   "metadata": {
    "colab": {
     "base_uri": "https://localhost:8080/",
     "height": 490
    },
    "colab_type": "code",
    "id": "E0M5fOGg7SGh",
    "outputId": "77067b00-47be-47f7-9998-274aa2be3d8f"
   },
   "outputs": [
    {
     "name": "stdout",
     "output_type": "stream",
     "text": [
      "+---------------+--------------------+\n",
      "|         artist|               track|\n",
      "+---------------+--------------------+\n",
      "|       Jessie J|           Price Tag|\n",
      "|       Jessie J|Price Tag (Acoust...|\n",
      "|          Robyn|Be Mine! (Ballad ...|\n",
      "|          Kelis|            Acapella|\n",
      "|      The Tease|   I'm Not Invisible|\n",
      "|       MSTRKRFT|Bounce (Feat NORE...|\n",
      "|        Rihanna|Don't Stop The Mu...|\n",
      "|      Meshuggah|               ObZen|\n",
      "|         Gojira|   Yama's Messengers|\n",
      "|   Napalm Death|On the Brink of E...|\n",
      "|   Napalm Death|On the Brink of E...|\n",
      "|   Napalm Death|        In Deference|\n",
      "|    Decapitated|      Post(?)organic|\n",
      "|   Dom & Roland|        Mind Feeders|\n",
      "|Cannibal Corpse|Necrosadistic War...|\n",
      "|   Dom & Roland|     Dance All Night|\n",
      "|   Dom & Roland|          Late Night|\n",
      "|   Dom & Roland|          Freak Seen|\n",
      "|   Dom & Roland|Paradrenasite (Hi...|\n",
      "|   Dom & Roland|               Rhino|\n",
      "+---------------+--------------------+\n",
      "only showing top 20 rows\n",
      "\n"
     ]
    }
   ],
   "source": [
    "# Query: Select two columns, tracks and artist\n",
    "q0 = listening_df.select('artist', 'track')\n",
    "\n",
    "# Show dataframe\n",
    "q0.show()"
   ]
  },
  {
   "cell_type": "markdown",
   "metadata": {},
   "source": [
    "## Records of those users who have listened to Rihanna"
   ]
  },
  {
   "cell_type": "code",
   "execution_count": 64,
   "metadata": {
    "colab": {
     "base_uri": "https://localhost:8080/",
     "height": 490
    },
    "colab_type": "code",
    "id": "Jxrb9g6C9D-q",
    "outputId": "46cf7b31-04e2-4a7a-e2b1-afade94a51b4"
   },
   "outputs": [
    {
     "name": "stdout",
     "output_type": "stream",
     "text": [
      "+-----------+--------------------+-------+--------------------+\n",
      "|    user_id|               track| artist|               album|\n",
      "+-----------+--------------------+-------+--------------------+\n",
      "|000Silenced|Don't Stop The Mu...|Rihanna|Addicted 2 Bassli...|\n",
      "|000Silenced|           Disturbia|Rihanna|Good Girl Gone Ba...|\n",
      "|00williamsl|   Hatin On The Club|Rihanna|              Random|\n",
      "|00williamsl|   Hatin On The Club|Rihanna|              Random|\n",
      "|00williamsl|         Complicated|Rihanna|                Loud|\n",
      "|00williamsl|What's My Name (f...|Rihanna|                Loud|\n",
      "|00williamsl|Kanye West feat R...|Rihanna|                Loud|\n",
      "|    0502008|Only Girl (In the...|Rihanna|                Loud|\n",
      "|      0rdos|Pon De Replay (Re...|Rihanna|    Music of the Sun|\n",
      "|      0rdos|          Now I Know|Rihanna|    Music of the Sun|\n",
      "|      0rdos|There's a Thug in...|Rihanna|    Music of the Sun|\n",
      "|      0rdos|                Rush|Rihanna|    Music of the Sun|\n",
      "|      0rdos|              Let Me|Rihanna|    Music of the Sun|\n",
      "|      0rdos|    Music of the Sun|Rihanna|    Music of the Sun|\n",
      "|      0rdos|     Willing to Wait|Rihanna|    Music of the Sun|\n",
      "|      0rdos|       The Last Time|Rihanna|    Music of the Sun|\n",
      "|      0rdos|If It's Lovin' Th...|Rihanna|    Music of the Sun|\n",
      "|      0rdos|     Here I Go Again|Rihanna|    Music of the Sun|\n",
      "|      0rdos|       Pon de Replay|Rihanna|    Music of the Sun|\n",
      "|      0rdos|                 Cry|Rihanna|  Good Girl Gone Bad|\n",
      "+-----------+--------------------+-------+--------------------+\n",
      "only showing top 20 rows\n",
      "\n"
     ]
    }
   ],
   "source": [
    "# Query: Records of those users who have listened to Rihanna\n",
    "q1 = listening_df.select('*').filter(listening_df.artist == 'Rihanna')\n",
    "\n",
    "# Show dataframe\n",
    "q1.show()"
   ]
  },
  {
   "cell_type": "markdown",
   "metadata": {},
   "source": [
    "## Top 10 Users Who Are Fan Of Rihanna"
   ]
  },
  {
   "cell_type": "code",
   "execution_count": 68,
   "metadata": {
    "colab": {
     "base_uri": "https://localhost:8080/",
     "height": 290
    },
    "colab_type": "code",
    "id": "LkQq632B9vWp",
    "outputId": "4f267d34-c301-4063-a5ab-1364003334ad"
   },
   "outputs": [
    {
     "name": "stdout",
     "output_type": "stream",
     "text": [
      "+---------------+-----+\n",
      "|        user_id|count|\n",
      "+---------------+-----+\n",
      "|        thiessu|  179|\n",
      "|    eyessetkyle|  166|\n",
      "|           adxx|  164|\n",
      "|missnumberthree|  156|\n",
      "|helloiamnatalie|  128|\n",
      "|          nmjnb|  124|\n",
      "|        AndyyyA|  123|\n",
      "|     BIGBANG186|  121|\n",
      "|     mixedvibes|  120|\n",
      "|       AndyKitt|  115|\n",
      "+---------------+-----+\n",
      "\n"
     ]
    }
   ],
   "source": [
    "# Query: Top 10 users who are fan of Rihanna\n",
    "q2 = listening_df.select('user_id').filter(listening_df.artist == 'Rihanna').groupby('user_id').agg(count('user_id').alias('count')).orderBy(desc('count')).limit(10)\n",
    "\n",
    "# Show dataframe\n",
    "q2.show()"
   ]
  },
  {
   "cell_type": "markdown",
   "metadata": {},
   "source": [
    "## Top 10 Famous Tracks"
   ]
  },
  {
   "cell_type": "code",
   "execution_count": 69,
   "metadata": {
    "colab": {
     "base_uri": "https://localhost:8080/",
     "height": 290
    },
    "colab_type": "code",
    "id": "_-Cmkd7w_Ye6",
    "outputId": "82008ee4-0399-440c-8b63-1a48ea0261f7"
   },
   "outputs": [
    {
     "name": "stdout",
     "output_type": "stream",
     "text": [
      "+--------------+-----------------+-----+\n",
      "|        artist|            track|count|\n",
      "+--------------+-----------------+-----+\n",
      "| Justin Bieber|            Sorry| 3381|\n",
      "|Arctic Monkeys| Do I Wanna Know?| 2865|\n",
      "|      Bon Iver|      Skinny Love| 2836|\n",
      "|          Zayn|       PILLOWTALK| 2701|\n",
      "|   The Killers|    Mr Brightside| 2690|\n",
      "|       Rihanna|             Work| 2646|\n",
      "|      Bastille|          Pompeii| 2606|\n",
      "|Mumford & Sons|  Little Lion Man| 2520|\n",
      "|Mumford & Sons|         The Cave| 2485|\n",
      "| Justin Bieber|What Do You Mean?| 2481|\n",
      "+--------------+-----------------+-----+\n",
      "\n"
     ]
    }
   ],
   "source": [
    "# Query: Top 10 famous tracks\n",
    "q3 = listening_df.select('artist', 'track').groupby('artist', 'track').agg(count('*').alias('count')).orderBy(desc('count')).limit(10)\n",
    "\n",
    "# Show dataframe\n",
    "q3.show()"
   ]
  },
  {
   "cell_type": "markdown",
   "metadata": {},
   "source": [
    "## Top 10 Famous Tracks Of Rihanna"
   ]
  },
  {
   "cell_type": "code",
   "execution_count": 77,
   "metadata": {
    "colab": {
     "base_uri": "https://localhost:8080/",
     "height": 290
    },
    "colab_type": "code",
    "id": "FIp2BPNUARMv",
    "outputId": "b7cb5e2f-e182-4c75-8f8b-ccd2e7ec7af9"
   },
   "outputs": [
    {
     "name": "stdout",
     "output_type": "stream",
     "text": [
      "+-------+--------------------+-----+\n",
      "| artist|               track|count|\n",
      "+-------+--------------------+-----+\n",
      "|Rihanna|                Work| 2646|\n",
      "|Rihanna|Only Girl (In the...| 1749|\n",
      "|Rihanna|We Found Love (fe...| 1575|\n",
      "|Rihanna|                 S&M| 1307|\n",
      "|Rihanna|            Rude Boy| 1303|\n",
      "|Rihanna|            Diamonds| 1224|\n",
      "|Rihanna|      Kiss it Better|  945|\n",
      "|Rihanna| Where Have You Been|  844|\n",
      "|Rihanna|Cheers (Drink to ...|  697|\n",
      "|Rihanna|           Needed Me|  679|\n",
      "+-------+--------------------+-----+\n",
      "\n"
     ]
    }
   ],
   "source": [
    "# Query: Top 10 famous tracks of Rihanna\n",
    "q4 = listening_df.select('artist', 'track').filter(listening_df.artist == 'Rihanna').groupby('artist', 'track').agg(count('*').alias('count')).orderBy(desc('count')).limit(10)\n",
    "\n",
    "# Check dataframe\n",
    "q4.show()"
   ]
  },
  {
   "cell_type": "markdown",
   "metadata": {},
   "source": [
    "## Top 10 Famous Albums"
   ]
  },
  {
   "cell_type": "code",
   "execution_count": 84,
   "metadata": {
    "colab": {
     "base_uri": "https://localhost:8080/",
     "height": 290
    },
    "colab_type": "code",
    "id": "iUWKATljBWt_",
    "outputId": "6aced52f-75a1-43a8-910f-a5d76095aef5"
   },
   "outputs": [
    {
     "name": "stdout",
     "output_type": "stream",
     "text": [
      "+--------------------+--------------------+-----+\n",
      "|              artist|               album|count|\n",
      "+--------------------+--------------------+-----+\n",
      "|          Kanye West|   The Life Of Pablo|22310|\n",
      "|              The xx|                  xx|14195|\n",
      "|      Arctic Monkeys|                  AM|14090|\n",
      "|               alt-J|     An Awesome Wave|13635|\n",
      "|      Mumford & Sons|        Sigh No More|13543|\n",
      "|      Arctic Monkeys|Whatever People S...|12731|\n",
      "|            Bon Iver|            For Emma|11994|\n",
      "|              Grimes|          Art Angels|11655|\n",
      "|Florence + the Ma...|               Lungs|11362|\n",
      "|               Adele|                  21|11215|\n",
      "+--------------------+--------------------+-----+\n",
      "\n"
     ]
    }
   ],
   "source": [
    "# Query: Top 10 famous albums\n",
    "q5 = listening_df.select('artist', 'album').groupby('artist', 'album').agg(count('*').alias('count')).orderBy(desc('count')).limit(10)\n",
    "\n",
    "# Check dataframe\n",
    "q5.show()"
   ]
  },
  {
   "cell_type": "markdown",
   "metadata": {},
   "source": [
    "# Import Genre Dataset"
   ]
  },
  {
   "cell_type": "code",
   "execution_count": 92,
   "metadata": {
    "colab": {},
    "colab_type": "code",
    "id": "EATloaBpCDmP"
   },
   "outputs": [],
   "source": [
    "# Import genre.csv file\n",
    "genre_csv_path = '/content/drive/My Drive/dataset/genre.csv'\n",
    "\n",
    "# Create data frame\n",
    "genre_df = sqlContext.read.load(genre_csv_path, \n",
    "                      format='com.databricks.spark.csv', \n",
    "                      header='true', \n",
    "                      inferSchema='true')"
   ]
  },
  {
   "cell_type": "code",
   "execution_count": 93,
   "metadata": {
    "colab": {
     "base_uri": "https://localhost:8080/",
     "height": 490
    },
    "colab_type": "code",
    "id": "PHCZbJU_bpL8",
    "outputId": "67ff2ceb-b6a7-4324-ffac-3b040a738ef2"
   },
   "outputs": [
    {
     "name": "stdout",
     "output_type": "stream",
     "text": [
      "+--------------------+-----+\n",
      "|              artist|genre|\n",
      "+--------------------+-----+\n",
      "|                Muse| rock|\n",
      "|             Nirvana| rock|\n",
      "|            Bon Jovi| rock|\n",
      "|          The Police| rock|\n",
      "|                Kiss| rock|\n",
      "|       Guns N' Roses| rock|\n",
      "|         Rusted Root| rock|\n",
      "|Katrina and the W...|  pop|\n",
      "|         The Beatles| rock|\n",
      "|        Hall & Oates|  pop|\n",
      "|        Otis Redding| soul|\n",
      "|         Marvin Gaye| soul|\n",
      "|     The Cranberries| rock|\n",
      "|            Survivor| rock|\n",
      "|       Fleetwood Mac|blues|\n",
      "|           Radiohead| rock|\n",
      "|                Toto| rock|\n",
      "|                  U2| rock|\n",
      "|Creedence Clearwa...| rock|\n",
      "|                 REM| rock|\n",
      "+--------------------+-----+\n",
      "only showing top 20 rows\n",
      "\n"
     ]
    }
   ],
   "source": [
    "# Check data\n",
    "genre_df.show()"
   ]
  },
  {
   "cell_type": "code",
   "execution_count": 94,
   "metadata": {
    "colab": {
     "base_uri": "https://localhost:8080/",
     "height": 490
    },
    "colab_type": "code",
    "id": "marXhQidb6eD",
    "outputId": "8771819e-046a-4c7e-e2ee-2adf4abab9e6"
   },
   "outputs": [
    {
     "name": "stdout",
     "output_type": "stream",
     "text": [
      "+-----------+--------------------+---------------+--------------------+\n",
      "|    user_id|               track|         artist|               album|\n",
      "+-----------+--------------------+---------------+--------------------+\n",
      "|000Silenced|           Price Tag|       Jessie J|         Who You Are|\n",
      "|000Silenced|Price Tag (Acoust...|       Jessie J|           Price Tag|\n",
      "|000Silenced|Be Mine! (Ballad ...|          Robyn|            Be Mine!|\n",
      "|000Silenced|            Acapella|          Kelis|            Acapella|\n",
      "|000Silenced|   I'm Not Invisible|      The Tease|   I'm Not Invisible|\n",
      "|000Silenced|Bounce (Feat NORE...|       MSTRKRFT|         Fist of God|\n",
      "|000Silenced|Don't Stop The Mu...|        Rihanna|Addicted 2 Bassli...|\n",
      "|000Silenced|               ObZen|      Meshuggah|               ObZen|\n",
      "|000Silenced|   Yama's Messengers|         Gojira|The Way of All Flesh|\n",
      "|000Silenced|On the Brink of E...|   Napalm Death|Time Waits For No...|\n",
      "|000Silenced|On the Brink of E...|   Napalm Death|Time Waits For No...|\n",
      "|000Silenced|        In Deference|   Napalm Death|      Smear Campaign|\n",
      "|000Silenced|      Post(?)organic|    Decapitated|Organic Hallucinosis|\n",
      "|000Silenced|        Mind Feeders|   Dom & Roland| No Strings Attached|\n",
      "|000Silenced|Necrosadistic War...|Cannibal Corpse|                Kill|\n",
      "|000Silenced|     Dance All Night|   Dom & Roland|          Chronology|\n",
      "|000Silenced|          Late Night|   Dom & Roland|          Chronology|\n",
      "|000Silenced|          Freak Seen|   Dom & Roland|          Chronology|\n",
      "|000Silenced|Paradrenasite (Hi...|   Dom & Roland|          Chronology|\n",
      "|000Silenced|               Rhino|   Dom & Roland|          Chronology|\n",
      "+-----------+--------------------+---------------+--------------------+\n",
      "only showing top 20 rows\n",
      "\n"
     ]
    }
   ],
   "source": [
    "# Check dataframe\n",
    "listening_df.show()"
   ]
  },
  {
   "cell_type": "markdown",
   "metadata": {},
   "source": [
    "# Listening And Genre Dataset Combination"
   ]
  },
  {
   "cell_type": "code",
   "execution_count": 95,
   "metadata": {
    "colab": {
     "base_uri": "https://localhost:8080/",
     "height": 490
    },
    "colab_type": "code",
    "id": "cp9E6XjscLIT",
    "outputId": "b2931835-e3fb-4223-c269-7365d55aab19"
   },
   "outputs": [
    {
     "name": "stdout",
     "output_type": "stream",
     "text": [
      "+------------+-----------+--------------------+--------------------+--------------------+\n",
      "|      artist|    user_id|               track|               album|               genre|\n",
      "+------------+-----------+--------------------+--------------------+--------------------+\n",
      "|    Jessie J|000Silenced|           Price Tag|         Who You Are| Ariana Grande & ...|\n",
      "|    Jessie J|000Silenced|           Price Tag|         Who You Are| Jhene Aiko & Rixton|\n",
      "|    Jessie J|000Silenced|           Price Tag|         Who You Are| Nicki Minaj & Ar...|\n",
      "|    Jessie J|000Silenced|           Price Tag|         Who You Are|                 pop|\n",
      "|    Jessie J|000Silenced|Price Tag (Acoust...|           Price Tag| Ariana Grande & ...|\n",
      "|    Jessie J|000Silenced|Price Tag (Acoust...|           Price Tag| Jhene Aiko & Rixton|\n",
      "|    Jessie J|000Silenced|Price Tag (Acoust...|           Price Tag| Nicki Minaj & Ar...|\n",
      "|    Jessie J|000Silenced|Price Tag (Acoust...|           Price Tag|                 pop|\n",
      "|       Robyn|000Silenced|Be Mine! (Ballad ...|            Be Mine!|                 pop|\n",
      "|       Kelis|000Silenced|            Acapella|            Acapella|                 pop|\n",
      "|   The Tease|000Silenced|   I'm Not Invisible|   I'm Not Invisible|             hip hop|\n",
      "|    MSTRKRFT|000Silenced|Bounce (Feat NORE...|         Fist of God|          electronic|\n",
      "|     Rihanna|000Silenced|Don't Stop The Mu...|Addicted 2 Bassli...|                 SZA|\n",
      "|     Rihanna|000Silenced|Don't Stop The Mu...|Addicted 2 Bassli...| Paul McCartney &...|\n",
      "|     Rihanna|000Silenced|Don't Stop The Mu...|Addicted 2 Bassli...|          Kanye West|\n",
      "|     Rihanna|000Silenced|Don't Stop The Mu...|Addicted 2 Bassli...| Kanye West & Pau...|\n",
      "|     Rihanna|000Silenced|Don't Stop The Mu...|Addicted 2 Bassli...|                 pop|\n",
      "|   Meshuggah|000Silenced|               ObZen|               ObZen|               metal|\n",
      "|      Gojira|000Silenced|   Yama's Messengers|The Way of All Flesh|               metal|\n",
      "|Napalm Death|000Silenced|On the Brink of E...|Time Waits For No...|           grindcore|\n",
      "+------------+-----------+--------------------+--------------------+--------------------+\n",
      "only showing top 20 rows\n",
      "\n"
     ]
    }
   ],
   "source": [
    "# Inner join these two dataframes\n",
    "data = listening_df.join(genre_df, how = 'inner', on = ['artist'])\n",
    "\n",
    "# Show data\n",
    "data.show()"
   ]
  },
  {
   "cell_type": "markdown",
   "metadata": {},
   "source": [
    "# More Query Entries And Gathering Of Insights"
   ]
  },
  {
   "cell_type": "markdown",
   "metadata": {},
   "source": [
    "## Top 10 Users Who Are Fan Of Pop Music"
   ]
  },
  {
   "cell_type": "code",
   "execution_count": 101,
   "metadata": {
    "colab": {
     "base_uri": "https://localhost:8080/",
     "height": 290
    },
    "colab_type": "code",
    "id": "khohhyzkcutv",
    "outputId": "b949c514-6315-4fb1-8896-dda1d7bcf290"
   },
   "outputs": [
    {
     "name": "stdout",
     "output_type": "stream",
     "text": [
      "+---------------+-----+\n",
      "|        user_id|count|\n",
      "+---------------+-----+\n",
      "|        01Green|  496|\n",
      "|      momousagi|  400|\n",
      "|          mrpsb|  400|\n",
      "|   BlueKnockOut|  378|\n",
      "|    musicboy80s|  376|\n",
      "|  incultojurgis|  374|\n",
      "| ElektricOrchid|  370|\n",
      "|foreign_fanatic|  350|\n",
      "|   Kevin_Soutar|  346|\n",
      "|  landrover2171|  301|\n",
      "+---------------+-----+\n",
      "\n"
     ]
    }
   ],
   "source": [
    "# Query: Top 10 users who are fan of pop music\n",
    "q6 = data.select('user_id').filter(data.genre == 'pop').groupby('user_id').agg(count('*').alias('count')).orderBy(desc('count')).limit(10)\n",
    "\n",
    "# Check dataframe\n",
    "q6.show()"
   ]
  },
  {
   "cell_type": "markdown",
   "metadata": {},
   "source": [
    "## Top 10 Famous Genres"
   ]
  },
  {
   "cell_type": "code",
   "execution_count": 102,
   "metadata": {
    "colab": {
     "base_uri": "https://localhost:8080/",
     "height": 290
    },
    "colab_type": "code",
    "id": "B3uQAWp6djOS",
    "outputId": "68e02122-c758-4dda-d7cf-117fdf97cec1"
   },
   "outputs": [
    {
     "name": "stdout",
     "output_type": "stream",
     "text": [
      "+----------+-------+\n",
      "|     genre|  count|\n",
      "+----------+-------+\n",
      "|      rock|2691934|\n",
      "|       pop|1544747|\n",
      "|electronic| 551509|\n",
      "|   hip hop| 532984|\n",
      "|      folk| 438174|\n",
      "|indie rock| 431439|\n",
      "|      punk| 380915|\n",
      "|       r&b| 344101|\n",
      "|     metal| 208107|\n",
      "|     indie| 206726|\n",
      "+----------+-------+\n",
      "\n"
     ]
    }
   ],
   "source": [
    "# Query: Top 10 famous genres\n",
    "q7 = data.select('genre').groupby('genre').agg(count('*').alias('count')).orderBy(desc('count')).limit(10)\n",
    "\n",
    "# Check dataframe\n",
    "q7.show()"
   ]
  },
  {
   "cell_type": "markdown",
   "metadata": {},
   "source": [
    "## User Favorite Genre"
   ]
  },
  {
   "cell_type": "code",
   "execution_count": 105,
   "metadata": {
    "colab": {
     "base_uri": "https://localhost:8080/",
     "height": 490
    },
    "colab_type": "code",
    "id": "OgREZEj0ex1j",
    "outputId": "d2c00486-4435-4e7e-fb90-3e1b6321dcb8"
   },
   "outputs": [
    {
     "name": "stdout",
     "output_type": "stream",
     "text": [
      "+-------+--------------------+-----+\n",
      "|user_id|               genre|count|\n",
      "+-------+--------------------+-----+\n",
      "| --Seph|         folktronica|    2|\n",
      "| --Seph|          Nils Frahm|    1|\n",
      "| --Seph|               indie|    3|\n",
      "| --Seph| Boston Pops Orch...|    1|\n",
      "| --Seph|           indie pop|    1|\n",
      "| --Seph|   Alesso Feat Hurts|    1|\n",
      "| --Seph|               Ruben|    4|\n",
      "| --Seph| The Ambrosian Si...|    1|\n",
      "| --Seph|               dance|    1|\n",
      "| --Seph|               house|    3|\n",
      "| --Seph|           classical|   31|\n",
      "| --Seph| Tamás Vásáry & Y...|    1|\n",
      "| --Seph|   progressive house|    1|\n",
      "| --Seph|                folk|   10|\n",
      "| --Seph|  progressive trance|    1|\n",
      "| --Seph|     Jennifer Vyvyan|    1|\n",
      "| --Seph|                soul|    1|\n",
      "| --Seph|          electropop|    1|\n",
      "| --Seph| Sir Colin Davis ...|    1|\n",
      "| --Seph|          Thom Yorke|    2|\n",
      "+-------+--------------------+-----+\n",
      "only showing top 20 rows\n",
      "\n"
     ]
    }
   ],
   "source": [
    "# Query: Find out each user favorite genre\n",
    "q8_1 = data.select('user_id', 'genre').groupby('user_id', 'genre').agg(count('*').alias('count')).orderBy('user_id')\n",
    "\n",
    "# Check dataframe\n",
    "q8_1.show()"
   ]
  },
  {
   "cell_type": "code",
   "execution_count": 109,
   "metadata": {
    "colab": {
     "base_uri": "https://localhost:8080/",
     "height": 490
    },
    "colab_type": "code",
    "id": "pJ6_bdeaf1-R",
    "outputId": "b2a849e1-5e43-4514-f6d3-f2067d9d0ff8"
   },
   "outputs": [
    {
     "name": "stdout",
     "output_type": "stream",
     "text": [
      "+---------------+-----------------+\n",
      "|        user_id|            genre|\n",
      "+---------------+-----------------+\n",
      "|        -Gemma-|      british pop|\n",
      "|        247flix|         synthpop|\n",
      "|     A3sahaettr|            metal|\n",
      "|        AYFBlog|       indie rock|\n",
      "|  AdamMcSpaddam|             rock|\n",
      "|        Alukarl|      death metal|\n",
      "|       Ambalina|              pop|\n",
      "|        AndyEgg|             rock|\n",
      "| AngerisaGift14|             rock|\n",
      "|      Anndddyyy|             rock|\n",
      "|     BasilBrush|             rock|\n",
      "|     BernieLick|             rock|\n",
      "|      Big_Tiger|            indie|\n",
      "|          Birks|singer-songwriter|\n",
      "|         BolaJA|             rock|\n",
      "|        Boone92|        metalcore|\n",
      "|CameronWhittall|              pop|\n",
      "|        Ceolmor|       electronic|\n",
      "| CheeseMonkey91|              emo|\n",
      "|  Chilled-Lemon|             rock|\n",
      "+---------------+-----------------+\n",
      "only showing top 20 rows\n",
      "\n"
     ]
    }
   ],
   "source": [
    "# Query: Combine count and genre column, find each user favorite genre\n",
    "q8_2 = q8_1.groupby('user_id').agg(max(struct(col('count'), col('genre'))).alias('max')).select(col('user_id'), col('max.genre'))\n",
    "\n",
    "# Check dataframe\n",
    "q8_2.show()"
   ]
  },
  {
   "cell_type": "markdown",
   "metadata": {},
   "source": [
    "## Numbers of Pop, Rock, Metal And Hiphop Singers"
   ]
  },
  {
   "cell_type": "code",
   "execution_count": 112,
   "metadata": {
    "colab": {
     "base_uri": "https://localhost:8080/",
     "height": 181
    },
    "colab_type": "code",
    "id": "FHbTEQG6hczp",
    "outputId": "c5526a90-dbe5-478f-9d12-62311039d920"
   },
   "outputs": [
    {
     "name": "stdout",
     "output_type": "stream",
     "text": [
      "+-------+-----+\n",
      "|  genre|count|\n",
      "+-------+-----+\n",
      "|    pop| 6960|\n",
      "|hip hop| 4288|\n",
      "|  metal| 1854|\n",
      "|   rock| 9066|\n",
      "+-------+-----+\n",
      "\n"
     ]
    }
   ],
   "source": [
    "# Query: Find out how many pop, rock, metal and hiphop singers\n",
    "q9 = genre_df.select('genre').filter((col('genre') == 'pop') | (col('genre') == 'rock') | (col('genre') == 'metal') | (col('genre') == 'hip hop')).groupby('genre').agg(count('genre').alias('count'))\n",
    "\n",
    "# Chech dataframe\n",
    "q9.show()"
   ]
  },
  {
   "cell_type": "code",
   "execution_count": 114,
   "metadata": {
    "colab": {},
    "colab_type": "code",
    "id": "_GkkctzJjFj-"
   },
   "outputs": [],
   "source": [
    "# Returns all the records as a list of class:Row\n",
    "q9_list = q9.collect()"
   ]
  },
  {
   "cell_type": "code",
   "execution_count": 120,
   "metadata": {
    "colab": {
     "base_uri": "https://localhost:8080/",
     "height": 54
    },
    "colab_type": "code",
    "id": "B_hpJKLlkkpH",
    "outputId": "36fd1d10-5f7b-4688-e8c1-5cfbaf0397e7"
   },
   "outputs": [
    {
     "name": "stdout",
     "output_type": "stream",
     "text": [
      "['pop', 'hip hop', 'metal', 'rock']\n",
      "[6960, 4288, 1854, 9066]\n"
     ]
    }
   ],
   "source": [
    "# Get the list of genre\n",
    "labels = [ row['genre'] for row in q9_list ]\n",
    "\n",
    "# Get the count in each genre\n",
    "counts = [ row['count'] for row in q9_list ]\n",
    "\n",
    "# Show label and counts\n",
    "print(labels)\n",
    "print(counts)"
   ]
  },
  {
   "cell_type": "code",
   "execution_count": 121,
   "metadata": {
    "colab": {
     "base_uri": "https://localhost:8080/",
     "height": 265
    },
    "colab_type": "code",
    "id": "UPG2Ratgljjk",
    "outputId": "45cedb41-2b33-4bde-ba3c-fb520b6dc462"
   },
   "outputs": [
    {
     "data": {
      "image/png": "[encoded data removed]",
      "text/plain": [
       "<Figure size 432x288 with 1 Axes>"
      ]
     },
     "metadata": {
      "needs_background": "light",
      "tags": []
     },
     "output_type": "display_data"
    }
   ],
   "source": [
    "# Visualize these two list using a bar chart\n",
    "plt.bar(labels, counts)\n",
    "plt.show()"
   ]
  }
 ],
 "metadata": {
  "colab": {
   "name": "LastFM-Analysis-PySpark.ipynb",
   "provenance": []
  },
  "hide_input": false,
  "kernelspec": {
   "display_name": "Python 3",
   "language": "python",
   "name": "python3"
  },
  "language_info": {
   "codemirror_mode": {
    "name": "ipython",
    "version": 3
   },
   "file_extension": ".py",
   "mimetype": "text/x-python",
   "name": "python",
   "nbconvert_exporter": "python",
   "pygments_lexer": "ipython3",
   "version": "3.8.3"
  },
  "toc": {
   "base_numbering": 1,
   "nav_menu": {},
   "number_sections": true,
   "sideBar": true,
   "skip_h1_title": false,
   "title_cell": "Table of Contents",
   "title_sidebar": "Contents",
   "toc_cell": true,
   "toc_position": {},
   "toc_section_display": true,
   "toc_window_display": false
  },
  "varInspector": {
   "cols": {
    "lenName": 16,
    "lenType": 16,
    "lenVar": 40
   },
   "kernels_config": {
    "python": {
     "delete_cmd_postfix": "",
     "delete_cmd_prefix": "del ",
     "library": "var_list.py",
     "varRefreshCmd": "print(var_dic_list())"
    },
    "r": {
     "delete_cmd_postfix": ") ",
     "delete_cmd_prefix": "rm(",
     "library": "var_list.r",
     "varRefreshCmd": "cat(var_dic_list()) "
    }
   },
   "types_to_exclude": [
    "module",
    "function",
    "builtin_function_or_method",
    "instance",
    "_Feature"
   ],
   "window_display": false
  }
 },
 "nbformat": 4,
 "nbformat_minor": 1
}
